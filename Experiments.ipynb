{
 "cells": [
  {
   "cell_type": "code",
   "execution_count": 18,
   "metadata": {
    "collapsed": false
   },
   "outputs": [],
   "source": [
    "import pickle\n",
    "import pandas as pd\n",
    "import numpy as np\n",
    "\n",
    "# importing our classification steps\n",
    "from sklearn.pipeline import Pipeline\n",
    "from sklearn.preprocessing import MinMaxScaler\n",
    "from sklearn.feature_selection import SelectKBest, chi2, f_classif, SelectFromModel\n",
    "from sklearn.model_selection import StratifiedShuffleSplit, GridSearchCV\n",
    "from sklearn.metrics import precision_recall_fscore_support \n",
    "\n",
    "# importing our models\n",
    "from sklearn.tree import DecisionTreeClassifier\n",
    "from sklearn.ensemble import RandomForestClassifier\n",
    "from sklearn.naive_bayes import GaussianNB\n",
    "from sklearn.svm import SVC\n",
    "from sklearn.linear_model import LogisticRegression"
   ]
  },
  {
   "cell_type": "code",
   "execution_count": 90,
   "metadata": {
    "collapsed": false
   },
   "outputs": [],
   "source": [
    "with open(\"final_project_dataset.pkl\", \"r\") as data_file:\n",
    "    data_dict = pickle.load(data_file)\n",
    "\n",
    "del data_dict[\"TOTAL\"]\n",
    "\n",
    "# transpose rows and columns\n",
    "df = pd.DataFrame(data_dict).transpose()\n",
    "\n",
    "# list of columns we want as numeric\n",
    "numeric_columns = [\"bonus\", \"deferral_payments\", \"deferred_income\", \"director_fees\",\\\n",
    "   \"exercised_stock_options\", \"expenses\", \"from_messages\", \"from_poi_to_this_person\",\\\n",
    "   \"from_this_person_to_poi\", \"loan_advances\", \"long_term_incentive\", \"other\", \"restricted_stock\",\\\n",
    "    \"restricted_stock_deferred\", \"salary\", \"shared_receipt_with_poi\", \"to_messages\",\\\n",
    "    \"total_payments\", \"total_stock_value\"]\n",
    "\n",
    "df[numeric_columns] = df[numeric_columns].apply(lambda x: pd.to_numeric(x, errors=\"coerce\"))\n",
    "\n",
    "# imputation\n",
    "df.fillna(0, inplace=True)\n",
    "\n",
    "# creating our new features\n",
    "# df[\"payout\"] = df[\"bonus\"] + df[\"salary\"]\n",
    "# df[\"stock\"] = df[\"exercised_stock_options\"] + df[\"loan_advances\"] + df[\"long_term_incentive\"]\n",
    "# df[\"poi_conversation\"] = df[\"from_poi_to_this_person\"] + df[\"shared_receipt_with_poi\"]\n",
    "\n",
    "# Changing our poi field from object to int so it appears in our correlation table\n",
    "labels = np.where(df[\"poi\"] == True, 1, 0)\n",
    "\n",
    "# Drop unnecessary columns\n",
    "del df[\"email_address\"]\n",
    "del df[\"total_payments\"]\n",
    "del df[\"total_stock_value\"]\n",
    "del df[\"loan_advances\"]\n",
    "\n",
    "columns = df.columns\n",
    "\n",
    "# Scale features\n",
    "scaler = MinMaxScaler(feature_range=(0,1))\n",
    "df = scaler.fit_transform(df)\n",
    "df = pd.DataFrame(df, columns=columns)\n",
    "\n",
    "df.to_csv(\"EnronData.csv\")\n",
    "\n",
    "# Creating our training data\n",
    "df_train = df[list(df.columns)]\n",
    "df_label = df_train[\"poi\"]\n",
    "del df_train[\"poi\"]\n",
    "\n",
    "sss = StratifiedShuffleSplit(n_splits=10, test_size=0.25)\n",
    "\n",
    "for train_ix, test_ix in sss.split(df_train, df_label):\n",
    "    x_train, x_test = df_train.iloc[train_ix], df_train.iloc[test_ix]\n",
    "    y_train, y_test = df_label.iloc[train_ix], df_label.iloc[test_ix]"
   ]
  },
  {
   "cell_type": "code",
   "execution_count": 79,
   "metadata": {
    "collapsed": true
   },
   "outputs": [],
   "source": [
    "def custom_score(clf, x, y):\n",
    "    accuracy = clf.score(x, y)\n",
    "    y_true = y\n",
    "    y_pred = clf.predict(x)\n",
    "    return  precision_recall_fscore_support(y_true=y_true, y_pred=y_pred, labels=[0,1], average=\"macro\")[:-1]"
   ]
  },
  {
   "cell_type": "code",
   "execution_count": 80,
   "metadata": {
    "collapsed": true
   },
   "outputs": [],
   "source": [
    "def get_features_used(data, k_best_estimator):\n",
    "    return list(df_train.columns[k_best.get_support()])"
   ]
  },
  {
   "cell_type": "code",
   "execution_count": 81,
   "metadata": {
    "collapsed": true
   },
   "outputs": [],
   "source": [
    "def report_performance(clf, x, y, data, k_best):\n",
    "    features = get_features_used(data, k_best)\n",
    "    accuracy = clf.score(x,y)\n",
    "    precision, recall, f1 = custom_score(clf, x, y)\n",
    "    return \"Features used: {}\\nAccuracy: {}\\nPrecision: {}\\nRecall: {}\\nF1: {}\".format(features, accuracy, precision/2, recall/2, f1/2)"
   ]
  },
  {
   "cell_type": "markdown",
   "metadata": {},
   "source": [
    "### Decision Tree"
   ]
  },
  {
   "cell_type": "code",
   "execution_count": 93,
   "metadata": {
    "collapsed": false
   },
   "outputs": [
    {
     "name": "stdout",
     "output_type": "stream",
     "text": [
      "Features used: ['bonus', 'exercised_stock_options', 'shared_receipt_with_poi']\n",
      "Accuracy: 0.837837837838\n",
      "Precision: 0.340476190476\n",
      "Recall: 0.36875\n",
      "F1: 0.350806451613\n"
     ]
    }
   ],
   "source": [
    "dtc = DecisionTreeClassifier()\n",
    "\n",
    "k_best = SelectKBest(score_func=chi2, k=3)\n",
    "\n",
    "clf_param = {\"criterion\": (\"gini\", \"entropy\")}\n",
    "clf_grid = GridSearchCV(dtc, clf_param)\n",
    "\n",
    "clf = Pipeline([\n",
    "        (\"feature_selection\", k_best),\n",
    "        (\"classifier\", clf_grid)\n",
    "    ])\n",
    "\n",
    "clf.fit(x_train, y_train)\n",
    "print report_performance(clf, x_test, y_test, df_train, k_best)"
   ]
  },
  {
   "cell_type": "markdown",
   "metadata": {},
   "source": [
    "### Random Forest"
   ]
  },
  {
   "cell_type": "code",
   "execution_count": 99,
   "metadata": {
    "collapsed": false
   },
   "outputs": [
    {
     "name": "stdout",
     "output_type": "stream",
     "text": [
      "Features used: ['bonus', 'exercised_stock_options', 'shared_receipt_with_poi']\n",
      "Accuracy: 0.918918918919\n",
      "Precision: 0.422348484848\n",
      "Recall: 0.3921875\n",
      "F1: 0.405128205128\n"
     ]
    }
   ],
   "source": [
    "rfc = RandomForestClassifier()\n",
    "\n",
    "k_best = SelectKBest(score_func=chi2, k=3)\n",
    "\n",
    "clf_param = {\"n_estimators\": [1, 10, 100, 1000], \"criterion\": (\"gini\", \"entropy\")}\n",
    "clf_grid = GridSearchCV(rfc, clf_param)\n",
    "\n",
    "clf = Pipeline([\n",
    "        (\"feature_selection\", k_best),\n",
    "        (\"classifier\", clf_grid)\n",
    "    ])\n",
    "\n",
    "clf.fit(x_train, y_train)\n",
    "print report_performance(clf, x_test, y_test, df_train, k_best)"
   ]
  },
  {
   "cell_type": "code",
   "execution_count": 100,
   "metadata": {
    "collapsed": false
   },
   "outputs": [
    {
     "data": {
      "text/plain": [
       "<bound method Pipeline.get_params of Pipeline(steps=[('feature_selection', SelectKBest(k=3, score_func=<function chi2 at 0x000000000A568A58>)), ('classifier', GridSearchCV(cv=None, error_score='raise',\n",
       "       estimator=RandomForestClassifier(bootstrap=True, class_weight=None, criterion='gini',\n",
       "            max_depth=None, max_features='auto', ma...     pre_dispatch='2*n_jobs', refit=True, return_train_score=True,\n",
       "       scoring=None, verbose=0))])>"
      ]
     },
     "execution_count": 100,
     "metadata": {},
     "output_type": "execute_result"
    }
   ],
   "source": [
    "clf.get_params"
   ]
  },
  {
   "cell_type": "markdown",
   "metadata": {},
   "source": [
    "### Naive Bayes"
   ]
  },
  {
   "cell_type": "code",
   "execution_count": 95,
   "metadata": {
    "collapsed": false
   },
   "outputs": [
    {
     "name": "stdout",
     "output_type": "stream",
     "text": [
      "Features used: ['bonus', 'exercised_stock_options', 'shared_receipt_with_poi']\n",
      "Accuracy: 0.783783783784\n",
      "Precision: 0.26875\n",
      "Recall: 0.26875\n",
      "F1: 0.26875\n"
     ]
    }
   ],
   "source": [
    "nb = GaussianNB()\n",
    "\n",
    "k_best = SelectKBest(score_func=chi2, k=3)\n",
    "\n",
    "clf = Pipeline([\n",
    "        (\"feature_selection\", k_best),\n",
    "        (\"classifier\", nb)\n",
    "    ])\n",
    "\n",
    "clf.fit(x_train, y_train)\n",
    "print report_performance(clf, x_test, y_test, df_train, k_best)"
   ]
  },
  {
   "cell_type": "markdown",
   "metadata": {},
   "source": [
    "### SVM SVC"
   ]
  },
  {
   "cell_type": "code",
   "execution_count": 96,
   "metadata": {
    "collapsed": false
   },
   "outputs": [
    {
     "name": "stdout",
     "output_type": "stream",
     "text": [
      "Features used: ['bonus', 'exercised_stock_options', 'shared_receipt_with_poi']\n",
      "Accuracy: 0.891891891892\n",
      "Precision: 0.472222222222\n",
      "Recall: 0.3\n",
      "F1: 0.31862745098\n"
     ]
    }
   ],
   "source": [
    "svc = SVC()\n",
    "\n",
    "k_best = SelectKBest(score_func=chi2, k=3)\n",
    "\n",
    "clf_param = {\"kernel\": (\"linear\", \"rbf\"), \"C\": [1, 10, 100, 1000]}\n",
    "clf_grid = GridSearchCV(svc, clf_param)\n",
    "\n",
    "clf = Pipeline([\n",
    "        (\"feature_selection\", k_best),\n",
    "        (\"classifier\", clf_grid)\n",
    "    ])\n",
    "\n",
    "clf.fit(x_train, y_train)\n",
    "print report_performance(clf, x_test, y_test, df_train, k_best)"
   ]
  },
  {
   "cell_type": "markdown",
   "metadata": {},
   "source": [
    "### Logistic Regression"
   ]
  },
  {
   "cell_type": "code",
   "execution_count": 97,
   "metadata": {
    "collapsed": false
   },
   "outputs": [
    {
     "name": "stdout",
     "output_type": "stream",
     "text": [
      "Features used: ['bonus', 'exercised_stock_options', 'shared_receipt_with_poi']\n",
      "Accuracy: 0.864864864865\n",
      "Precision: 0.346428571429\n",
      "Recall: 0.2921875\n",
      "F1: 0.302771855011\n"
     ]
    }
   ],
   "source": [
    "lr = LogisticRegression()\n",
    "\n",
    "k_best = SelectKBest(score_func=chi2, k=3)\n",
    "\n",
    "clf_param = {\"C\": [1, 10, 100, 1000]}\n",
    "clf_grid = GridSearchCV(lr, clf_param)\n",
    "\n",
    "clf = Pipeline([\n",
    "        (\"feature_selection\", k_best),\n",
    "        (\"classifier\", clf_grid)\n",
    "    ])\n",
    "\n",
    "clf.fit(x_train, y_train)\n",
    "print report_performance(clf, x_test, y_test, df_train, k_best)"
   ]
  }
 ],
 "metadata": {
  "anaconda-cloud": {},
  "kernelspec": {
   "display_name": "Python [conda env:DAND]",
   "language": "python",
   "name": "conda-env-DAND-py"
  },
  "language_info": {
   "codemirror_mode": {
    "name": "ipython",
    "version": 2
   },
   "file_extension": ".py",
   "mimetype": "text/x-python",
   "name": "python",
   "nbconvert_exporter": "python",
   "pygments_lexer": "ipython2",
   "version": "2.7.13"
  }
 },
 "nbformat": 4,
 "nbformat_minor": 1
}
