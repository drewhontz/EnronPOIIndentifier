{
 "cells": [
  {
   "cell_type": "code",
   "execution_count": 154,
   "metadata": {
    "collapsed": false
   },
   "outputs": [],
   "source": [
    "import pickle\n",
    "import pandas as pd\n",
    "import numpy as np\n",
    "\n",
    "# importing our classification steps\n",
    "from sklearn.pipeline import Pipeline\n",
    "from sklearn.preprocessing import MinMaxScaler\n",
    "from sklearn.feature_selection import SelectKBest, chi2, f_classif, SelectFromModel\n",
    "from sklearn.model_selection import train_test_split, GridSearchCV\n",
    "from sklearn.metrics import precision_recall_fscore_support \n",
    "\n",
    "# importing our models\n",
    "from sklearn.tree import DecisionTreeClassifier\n",
    "from sklearn.ensemble import RandomForestClassifier\n",
    "from sklearn.naive_bayes import GaussianNB\n",
    "from sklearn.svm import SVC\n",
    "from sklearn.linear_model import LogisticRegression"
   ]
  },
  {
   "cell_type": "code",
   "execution_count": 262,
   "metadata": {
    "collapsed": false
   },
   "outputs": [],
   "source": [
    "with open(\"final_project_dataset.pkl\", \"r\") as data_file:\n",
    "    data_dict = pickle.load(data_file)\n",
    "\n",
    "del data_dict[\"TOTAL\"]\n",
    "\n",
    "# transpose rows and columns\n",
    "df = pd.DataFrame(data_dict).transpose()\n",
    "\n",
    "# list of columns we want as numeric\n",
    "numeric_columns = [\"bonus\", \"deferral_payments\", \"deferred_income\", \"director_fees\",\\\n",
    "   \"exercised_stock_options\", \"expenses\", \"from_messages\", \"from_poi_to_this_person\",\\\n",
    "   \"from_this_person_to_poi\", \"loan_advances\", \"long_term_incentive\", \"other\", \"restricted_stock\",\\\n",
    "    \"restricted_stock_deferred\", \"salary\", \"shared_receipt_with_poi\", \"to_messages\",\\\n",
    "    \"total_payments\", \"total_stock_value\"]\n",
    "\n",
    "df[numeric_columns] = df[numeric_columns].apply(lambda x: pd.to_numeric(x, errors=\"coerce\"))\n",
    "\n",
    "# imputation\n",
    "df.fillna(0, inplace=True)\n",
    "\n",
    "# creating our new features\n",
    "# df[\"payout\"] = df[\"bonus\"] + df[\"salary\"]+df[\"total_stock_value\"]\n",
    "# df[\"stock\"] = df[\"exercised_stock_options\"] + df[\"loan_advances\"] + df[\"long_term_incentive\"]\n",
    "# df[\"poi_conversation\"] = df[\"from_poi_to_this_person\"] + df[\"shared_receipt_with_poi\"]\n",
    "\n",
    "# Changing our poi field from object to int so it appears in our correlation table\n",
    "labels = np.where(df[\"poi\"] == True, 1, 0)\n",
    "\n",
    "# Drop unnecessary columns\n",
    "del df[\"email_address\"]\n",
    "del df[\"total_payments\"]\n",
    "del df[\"total_stock_value\"]\n",
    "del df[\"loan_advances\"]\n",
    "\n",
    "columns = df.columns\n",
    "\n",
    "# Scale features\n",
    "scaler = MinMaxScaler(feature_range=(0,1))\n",
    "df = scaler.fit_transform(df)\n",
    "df = pd.DataFrame(df, columns=columns)\n",
    "\n",
    "df.to_csv(\"EnronData.csv\")\n",
    "\n",
    "# Creating our training data\n",
    "df_train = df[list(df.columns)]\n",
    "df_label = df_train[\"poi\"]\n",
    "del df_train[\"poi\"]\n",
    "\n",
    "x_train, x_test, y_train, y_test = train_test_split(df_train, df_label, test_size=0.25)"
   ]
  },
  {
   "cell_type": "code",
   "execution_count": 13,
   "metadata": {
    "collapsed": true
   },
   "outputs": [],
   "source": [
    "def custom_score(clf, x, y):\n",
    "    accuracy = clf.score(x, y)\n",
    "    y_true = y\n",
    "    y_pred = clf.predict(x)\n",
    "    return  precision_recall_fscore_support(y_true=y_true, y_pred=y_pred, labels=[0,1], average=\"macro\")[:-1]"
   ]
  },
  {
   "cell_type": "code",
   "execution_count": 14,
   "metadata": {
    "collapsed": true
   },
   "outputs": [],
   "source": [
    "def get_features_used(data, k_best_estimator):\n",
    "    return list(df_train.columns[k_best.get_support()])"
   ]
  },
  {
   "cell_type": "code",
   "execution_count": 15,
   "metadata": {
    "collapsed": true
   },
   "outputs": [],
   "source": [
    "def report_performance(clf, x, y, data, k_best):\n",
    "    features = get_features_used(data, k_best)\n",
    "    accuracy = clf.score(x,y)\n",
    "    precision, recall, f1 = custom_score(clf, x, y)\n",
    "    return \"Features used: {}\\nAccuracy: {}\\nPrecision: {}\\nRecall: {}\\nF1: {}\".format(features, accuracy, precision, recall, f1)"
   ]
  },
  {
   "cell_type": "markdown",
   "metadata": {},
   "source": [
    "### Decision Tree"
   ]
  },
  {
   "cell_type": "code",
   "execution_count": 265,
   "metadata": {
    "collapsed": false
   },
   "outputs": [
    {
     "name": "stdout",
     "output_type": "stream",
     "text": [
      "Features used: ['bonus', 'exercised_stock_options', 'shared_receipt_with_poi']\n",
      "Accuracy: 0.972972972973\n",
      "Precision: 0.985294117647\n",
      "Recall: 0.875\n",
      "F1: 0.921108742004\n"
     ]
    }
   ],
   "source": [
    "dtc = DecisionTreeClassifier()\n",
    "\n",
    "k_best = SelectKBest(score_func=chi2, k=3)\n",
    "\n",
    "clf_param = {\"criterion\": (\"gini\", \"entropy\")}\n",
    "clf_grid = GridSearchCV(dtc, clf_param)\n",
    "\n",
    "clf = Pipeline([\n",
    "        (\"feature_selection\", k_best),\n",
    "        (\"classifier\", clf_grid)\n",
    "    ])\n",
    "\n",
    "clf.fit(x_train, y_train)\n",
    "print report_performance(clf, x_test, y_test, df_train, k_best)"
   ]
  },
  {
   "cell_type": "code",
   "execution_count": 280,
   "metadata": {
    "collapsed": false
   },
   "outputs": [
    {
     "data": {
      "text/plain": [
       "array([ 0.20287093,  0.38827463,  0.40885444])"
      ]
     },
     "execution_count": 280,
     "metadata": {},
     "output_type": "execute_result"
    }
   ],
   "source": [
    "clf.named_steps[\"classifier\"].best_estimator_.feature_importances_ "
   ]
  },
  {
   "cell_type": "code",
   "execution_count": 267,
   "metadata": {
    "collapsed": false
   },
   "outputs": [
    {
     "data": {
      "text/plain": [
       "[2.4830127587648274,\n",
       " 3.6756244017490349e-05,\n",
       " 0.34563048888371595,\n",
       " 0.80017217090910431,\n",
       " 4.8911956564891721,\n",
       " 0.49836203940690893,\n",
       " 0.077722984868213232,\n",
       " 0.70083410626505926,\n",
       " 0.88878171579699172,\n",
       " 0.60672047524642847,\n",
       " 0.058069507189386173,\n",
       " 0.16684577107360188,\n",
       " 0.00064533250122582179,\n",
       " 1.2713196339806103,\n",
       " 1.6598525012599821,\n",
       " 0.17166954286550246]"
      ]
     },
     "execution_count": 267,
     "metadata": {},
     "output_type": "execute_result"
    }
   ],
   "source": [
    "list(k_best.scores_)"
   ]
  },
  {
   "cell_type": "markdown",
   "metadata": {},
   "source": [
    "### Random Forest"
   ]
  },
  {
   "cell_type": "code",
   "execution_count": 281,
   "metadata": {
    "collapsed": false
   },
   "outputs": [
    {
     "name": "stdout",
     "output_type": "stream",
     "text": [
      "Features used: ['bonus', 'exercised_stock_options', 'shared_receipt_with_poi']\n",
      "Accuracy: 0.945945945946\n",
      "Precision: 0.971428571429\n",
      "Recall: 0.75\n",
      "F1: 0.81862745098\n"
     ]
    }
   ],
   "source": [
    "rfc = RandomForestClassifier()\n",
    "\n",
    "k_best = SelectKBest(score_func=chi2, k=3)\n",
    "\n",
    "clf_param = {\"n_estimators\": [1, 10, 100, 1000], \"criterion\": (\"gini\", \"entropy\")}\n",
    "clf_grid = GridSearchCV(rfc, clf_param)\n",
    "\n",
    "clf = Pipeline([\n",
    "        (\"feature_selection\", k_best),\n",
    "        (\"classifier\", clf_grid)\n",
    "    ])\n",
    "\n",
    "clf.fit(x_train, y_train)\n",
    "print report_performance(clf, x_test, y_test, df_train, k_best)"
   ]
  },
  {
   "cell_type": "markdown",
   "metadata": {},
   "source": [
    "### Naive Bayes"
   ]
  },
  {
   "cell_type": "code",
   "execution_count": 282,
   "metadata": {
    "collapsed": false
   },
   "outputs": [
    {
     "name": "stdout",
     "output_type": "stream",
     "text": [
      "Features used: ['bonus', 'exercised_stock_options', 'shared_receipt_with_poi']\n",
      "Accuracy: 0.864864864865\n",
      "Precision: 0.622549019608\n",
      "Recall: 0.594696969697\n",
      "F1: 0.605543710021\n"
     ]
    }
   ],
   "source": [
    "nb = GaussianNB()\n",
    "\n",
    "k_best = SelectKBest(score_func=chi2, k=3)\n",
    "\n",
    "clf = Pipeline([\n",
    "        (\"feature_selection\", k_best),\n",
    "        (\"classifier\", nb)\n",
    "    ])\n",
    "\n",
    "clf.fit(x_train, y_train)\n",
    "print report_performance(clf, x_test, y_test, df_train, k_best)"
   ]
  },
  {
   "cell_type": "markdown",
   "metadata": {},
   "source": [
    "### SVM SVC"
   ]
  },
  {
   "cell_type": "code",
   "execution_count": 283,
   "metadata": {
    "collapsed": false
   },
   "outputs": [
    {
     "name": "stdout",
     "output_type": "stream",
     "text": [
      "Features used: ['bonus', 'exercised_stock_options', 'shared_receipt_with_poi']\n",
      "Accuracy: 0.918918918919\n",
      "Precision: 0.958333333333\n",
      "Recall: 0.625\n",
      "F1: 0.678260869565\n"
     ]
    }
   ],
   "source": [
    "svc = SVC()\n",
    "\n",
    "k_best = SelectKBest(score_func=chi2, k=3)\n",
    "\n",
    "clf_param = {\"kernel\": (\"linear\", \"rbf\"), \"C\": [1, 10, 100, 1000]}\n",
    "clf_grid = GridSearchCV(svc, clf_param)\n",
    "\n",
    "clf = Pipeline([\n",
    "        (\"feature_selection\", k_best),\n",
    "        (\"classifier\", clf_grid)\n",
    "    ])\n",
    "\n",
    "clf.fit(x_train, y_train)\n",
    "print report_performance(clf, x_test, y_test, df_train, k_best)"
   ]
  },
  {
   "cell_type": "markdown",
   "metadata": {},
   "source": [
    "### Logistic Regression"
   ]
  },
  {
   "cell_type": "code",
   "execution_count": 284,
   "metadata": {
    "collapsed": false
   },
   "outputs": [
    {
     "name": "stdout",
     "output_type": "stream",
     "text": [
      "Features used: ['bonus', 'exercised_stock_options', 'shared_receipt_with_poi']\n",
      "Accuracy: 0.918918918919\n",
      "Precision: 0.958333333333\n",
      "Recall: 0.625\n",
      "F1: 0.678260869565\n"
     ]
    }
   ],
   "source": [
    "lr = LogisticRegression()\n",
    "\n",
    "k_best = SelectKBest(score_func=chi2, k=3)\n",
    "\n",
    "clf_param = {\"C\": [1, 10, 100, 1000]}\n",
    "clf_grid = GridSearchCV(lr, clf_param)\n",
    "\n",
    "clf = Pipeline([\n",
    "        (\"feature_selection\", k_best),\n",
    "        (\"classifier\", clf_grid)\n",
    "    ])\n",
    "\n",
    "clf.fit(x_train, y_train)\n",
    "print report_performance(clf, x_test, y_test, df_train, k_best)"
   ]
  }
 ],
 "metadata": {
  "anaconda-cloud": {},
  "kernelspec": {
   "display_name": "Python [conda env:DAND]",
   "language": "python",
   "name": "conda-env-DAND-py"
  },
  "language_info": {
   "codemirror_mode": {
    "name": "ipython",
    "version": 2
   },
   "file_extension": ".py",
   "mimetype": "text/x-python",
   "name": "python",
   "nbconvert_exporter": "python",
   "pygments_lexer": "ipython2",
   "version": "2.7.13"
  }
 },
 "nbformat": 4,
 "nbformat_minor": 1
}
